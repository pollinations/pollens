{
  "cells": [
    {
      "cell_type": "markdown",
      "metadata": {
        "colab_type": "text",
        "id": "view-in-github"
      },
      "source": [
        "<a href=\"https://colab.research.google.com/github/pollinations/hive/blob/main/notebooks/5%20Audio-To-Audio/1%20D3Net%20Music%20Splitter.ipynb\" target=\"_parent\"><img src=\"https://colab.research.google.com/assets/colab-badge.svg\" alt=\"Open In Colab\"/></a>"
      ]
    },
    {
      "cell_type": "markdown",
      "metadata": {
        "id": "YZa1_42XDFdS"
      },
      "source": [
        "<img src=\"https://ipfs.pollinations.ai/ipfs/Qmd3JVVu41XDQ1gq6LAW4pVqb2oST2rGGqBLZZumHGnsPU\" width=\"300\" height=\"300\" />\n",
        "\n",
        "Splits full music tracks into vocal, bass, drums and others. Upload your audio track or load it directly from YouTube or Soundcloud\n"
      ]
    },
    {
      "cell_type": "code",
      "execution_count": null,
      "metadata": {
        "id": "UbmdbQnaOk4G"
      },
      "outputs": [],
      "source": [
        "# Music file to split\n",
        "audio_file = ''  #@param {type: \"string\"}\n",
        "# Alternative: link to youtube or soundcloud\n",
        "youtube_dl_link = '' #@param {type: \"string\"}\n",
        "\n",
        "output_path = '/content'\n"
      ]
    },
    {
      "cell_type": "code",
      "execution_count": null,
      "metadata": {
        "id": "nC-5fp3lGvYA"
      },
      "outputs": [],
      "source": [
        "if youtube_dl_link.startswith(\"http\"):\n",
        "  print(f\"Downloading from {youtube_dl_link}...\")\n",
        "  !pip install -q youtube-dl\n",
        "  !youtube-dl --rm-cache-dir\n",
        "  !youtube-dl --extract-audio --audio-format wav {youtube_dl_link} --output /tmp/audio_file.wav\n",
        "  audio_file = \"/tmp/audio_file.wav\"\n",
        "  from glob import glob\n",
        "  print(glob(\"/tmp/*.wav\"))"
      ]
    },
    {
      "cell_type": "code",
      "execution_count": null,
      "metadata": {
        "id": "zLhVhnfLDFdY"
      },
      "outputs": [],
      "source": [
        "!pip install soundfile librosa pydub nnabla-ext-cuda100==1.25.0 nnabla==1.25.0\n",
        "!pip install --upgrade PyYAML"
      ]
    },
    {
      "cell_type": "markdown",
      "metadata": {
        "id": "04j4YatTDFdZ"
      },
      "source": [
        "\n",
        "Next, clone the code from sony/ai-research-code repository, and then download the [pre-trained weights](https://nnabla.org/pretrained-models/ai-research-code/d3net/mss/d3net-mss.h5) to test on music files(only wav format)."
      ]
    },
    {
      "cell_type": "code",
      "execution_count": null,
      "metadata": {
        "id": "zExvL4qzDFda"
      },
      "outputs": [],
      "source": [
        "%cd /content\n",
        "!git clone https://github.com/sony/ai-research-code.git\n",
        "%cd /content/ai-research-code/d3net/music-source-separation\n",
        "!wget -N https://ipfs.pollinations.ai/ipfs/QmVMzFbNSZhCuEtQ2aJdFajH5UnP31oMZ1hTaHU9cgBXmX/d3net-mss.zip\n",
        "!unzip -o d3net-mss.zip\n",
        "# Hack because it looks like zip file structure changed\n",
        "!mkdir -p d3net-mss\n",
        "!cp -v *.h5 d3net-mss/"
      ]
    },
    {
      "cell_type": "markdown",
      "metadata": {
        "id": "l0MOUmgBDFda"
      },
      "source": [
        "# Testing\n",
        "\n",
        "If you do not have sample music files, such files can be downloaded from [this link](https://www.ee.columbia.edu/~dpwe/sounds/music/)."
      ]
    },
    {
      "cell_type": "code",
      "execution_count": null,
      "metadata": {
        "id": "h_oeEUSADFdb"
      },
      "outputs": [],
      "source": [
        "filename = audio_file"
      ]
    },
    {
      "cell_type": "code",
      "execution_count": null,
      "metadata": {
        "id": "srysqhRWDFdb"
      },
      "outputs": [],
      "source": [
        "!mkdir -p /tmp/audio\n",
        "!python separate.py  -i \"$filename\" -o /tmp/audio\n",
        "!mv -v /tmp/audio/**/*.wav $output_path\n",
        "!sleep 20\n",
        "\n",
        "from glob import glob\n",
        "\n",
        "audio_files = list(glob(f\"{output_path}/*.wav\"))\n",
        "\n",
        "if len(audio_files) == 0:\n",
        "  raise Exception(\"Expected output files do not exist.\")"
      ]
    }
  ],
  "metadata": {
    "accelerator": "GPU",
    "colab": {
      "include_colab_link": true,
      "name": "Audio-To-Audio - D3Net Music Splitter",
      "provenance": []
    },
    "kernelspec": {
      "display_name": "Python 3",
      "language": "python",
      "name": "python3"
    },
    "language_info": {
      "codemirror_mode": {
        "name": "ipython",
        "version": 3
      },
      "file_extension": ".py",
      "mimetype": "text/x-python",
      "name": "python",
      "nbconvert_exporter": "python",
      "pygments_lexer": "ipython3",
      "version": "3.7.3"
    }
  },
  "nbformat": 4,
  "nbformat_minor": 0
}
